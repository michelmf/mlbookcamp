{
 "cells": [
  {
   "cell_type": "code",
   "execution_count": 55,
   "metadata": {},
   "outputs": [
    {
     "name": "stdout",
     "output_type": "stream",
     "text": [
      "Version of numpy: 1.21.5\n",
      "# Records in the dataset: 11914\n",
      "The most popular car manufacturers: ['Chevrolet', 'Ford', 'Volkswagen']\n",
      "Number of unique Audi car models: 34\n",
      "Number of columns with missing values: 5\n",
      "Median before replacing NaN rows: 6.0\n",
      "Median after replacing NaN rows: 6.0\n",
      "First element of w: 4.594944810094551\n"
     ]
    }
   ],
   "source": [
    "import numpy as np\n",
    "import pandas as pd\n",
    "\n",
    "# Question 1: Version of NumPy\n",
    "print(f'Version of numpy: {np.__version__}')\n",
    "\n",
    "## Question 2: Number of records in the dataset\n",
    "data = pd.read_csv('https://raw.githubusercontent.com/alexeygrigorev/mlbookcamp-code/master/chapter-02-car-price/data.csv')\n",
    "print(f'# Records in the dataset: {data.shape[0]}')\n",
    "\n",
    "## Question 3: The most popular car manufacturers\n",
    "print(f'The most popular car manufacturers: {data.Make.value_counts()[:3].index.tolist()}')\n",
    "\n",
    "## Question 4: Number of unique Audi car Models\n",
    "print(f\"Number of unique Audi car models: {data[data.Make == 'Audi'].Model.nunique()}\")\n",
    "\n",
    "## Question 5: Number of columns with missing values\n",
    "print(f\"Number of columns with missing values: {sum(data.isnull().any().values)}\")\n",
    "\n",
    "## Question 6: Number of columns with missing values\n",
    "print(f\"Median before replacing NaN rows: {data['Engine Cylinders'].median()}\")\n",
    "print(f\"Median after replacing NaN rows: {data['Engine Cylinders'].median()}\")\n",
    "\n",
    "## Question 7\n",
    "# Select all the \"Lotus\" cars from the dataset.\n",
    "# Select only columns \"Engine HP\", \"Engine Cylinders\".\n",
    "# Now drop all duplicated rows using drop_duplicates method (you should get a dataframe with 9 rows).\n",
    "# Get the underlying NumPy array. Let's call it X.\n",
    "# Compute matrix-matrix multiplication between the transpose of X and X. To get the transpose, use X.T. Let's call the result XTX.\n",
    "# Invert XTX.\n",
    "# Create an array y with values [1100, 800, 750, 850, 1300, 1000, 1000, 1300, 800].\n",
    "# Multiply the inverse of XTX with the transpose of X, and then multiply the result by y. Call the result w.\n",
    "# What's the value of the first element of w?\n",
    "\n",
    "X = data[data.Make == \"Lotus\"][['Engine HP', 'Engine Cylinders']].drop_duplicates().to_numpy()\n",
    "XTX = np.matmul(X.T, X)\n",
    "inv_XTX = np.linalg.inv(XTX)\n",
    "y = np.array([1100, 800, 750, 850, 1300, 1000, 1000, 1300, 800])\n",
    "w = np.dot(np.matmul(inv_XTX, X.T), y) \n",
    "print(f'First element of w: {w[0]}')"
   ]
  }
 ],
 "metadata": {
  "kernelspec": {
   "display_name": "Python 3.9.13 ('mlbookcamp')",
   "language": "python",
   "name": "python3"
  },
  "language_info": {
   "codemirror_mode": {
    "name": "ipython",
    "version": 3
   },
   "file_extension": ".py",
   "mimetype": "text/x-python",
   "name": "python",
   "nbconvert_exporter": "python",
   "pygments_lexer": "ipython3",
   "version": "3.9.13"
  },
  "orig_nbformat": 4,
  "vscode": {
   "interpreter": {
    "hash": "9007e5ebfda481c422dbffa496a8da972321b3bf9ee1e537b38790b88416ec2e"
   }
  }
 },
 "nbformat": 4,
 "nbformat_minor": 2
}
